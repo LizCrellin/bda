{
 "cells": [
  {
   "cell_type": "code",
   "execution_count": null,
   "id": "c92dd897",
   "metadata": {},
   "outputs": [],
   "source": []
  },
  {
   "cell_type": "code",
   "execution_count": 1,
   "id": "864059fc",
   "metadata": {},
   "outputs": [
    {
     "name": "stdout",
     "output_type": "stream",
     "text": [
      "10\n"
     ]
    }
   ],
   "source": [
    "def get_it(arr):\n",
    "    for i in arr:\n",
    "      return i\n",
    "\n",
    "if __name__ == \"__main__\":\n",
    "  data = [10,20,30,40,50,50,60,80,90,100]\n",
    "  print(get_it(data))"
   ]
  },
  {
   "cell_type": "code",
   "execution_count": null,
   "id": "409cf8d0",
   "metadata": {},
   "outputs": [],
   "source": []
  }
 ],
 "metadata": {
  "kernelspec": {
   "display_name": "Python 3",
   "language": "python",
   "name": "python3"
  },
  "language_info": {
   "codemirror_mode": {
    "name": "ipython",
    "version": 3
   },
   "file_extension": ".py",
   "mimetype": "text/x-python",
   "name": "python",
   "nbconvert_exporter": "python",
   "pygments_lexer": "ipython3",
   "version": "3.12.5"
  }
 },
 "nbformat": 4,
 "nbformat_minor": 5
}
